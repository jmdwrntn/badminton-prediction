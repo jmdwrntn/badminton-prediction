{
 "cells": [
  {
   "cell_type": "markdown",
   "id": "11512b1e-4750-41ad-9640-3d452e35d01e",
   "metadata": {},
   "source": [
    "# Appendix\n",
    "### Individual discipline cleaning\n",
    "Some cleaning of the individual discipline datasets was needed to get all the datasets in the right place before concatenating into one in the main notebook. Kept in separate notebook to avoid bloating the main analysis."
   ]
  },
  {
   "cell_type": "code",
   "execution_count": 84,
   "id": "573c8020-4292-4455-9496-bd27d6dda0da",
   "metadata": {},
   "outputs": [],
   "source": [
    "import pandas as pd \n",
    "import numpy as np\n",
    "import matplotlib.pyplot as plt\n",
    "import re\n",
    "import seaborn as sns"
   ]
  },
  {
   "cell_type": "code",
   "execution_count": 85,
   "id": "e7321beb-fa40-4292-8893-f8bdd1b01c1d",
   "metadata": {},
   "outputs": [],
   "source": [
    "%matplotlib inline"
   ]
  },
  {
   "cell_type": "code",
   "execution_count": 138,
   "id": "8e373781-6ea5-43bc-b055-ee127109afc2",
   "metadata": {},
   "outputs": [],
   "source": [
    "# Read the .csvs into a pandas DataFrame for each discipline\n",
    "ws = pd.read_csv('data_original/ws.csv')\n",
    "wd = pd.read_csv('data_original/wd.csv')\n",
    "md = pd.read_csv('data_original/md.csv')\n",
    "xd = pd.read_csv('data_original/xd.csv')"
   ]
  },
  {
   "cell_type": "markdown",
   "id": "1817a50f-de4a-40ac-ba70-d8c8e4cebe75",
   "metadata": {},
   "source": [
    "#### Initial pre-processing"
   ]
  },
  {
   "cell_type": "code",
   "execution_count": 139,
   "id": "00257f02-ce74-412a-9707-39d8b48709e1",
   "metadata": {},
   "outputs": [],
   "source": [
    "wd['team_one_players'] = wd['team_one_player_one'] + ', ' + wd['team_one_player_two']\n",
    "wd['team_two_players'] = wd['team_two_player_one'] + ', ' + wd['team_two_player_two']\n",
    "md['team_one_players'] = md['team_one_player_one'] + ', ' + md['team_one_player_two']\n",
    "md['team_two_players'] = md['team_two_player_one'] + ', ' + md['team_two_player_two']\n",
    "xd['team_one_players'] = xd['team_one_player_one'] + ', ' + xd['team_one_player_two']\n",
    "xd['team_two_players'] = xd['team_two_player_one'] + ', ' + xd['team_two_player_two']"
   ]
  },
  {
   "cell_type": "code",
   "execution_count": 140,
   "id": "79551fe5-0459-4953-8c80-689f5e81738d",
   "metadata": {},
   "outputs": [],
   "source": [
    "team_one = wd.pop('team_one_players')\n",
    "team_two = wd.pop('team_two_players')\n",
    "wd.insert(13, 'team_one_players', team_one)\n",
    "wd.insert(14, 'team_two_players', team_two)"
   ]
  },
  {
   "cell_type": "code",
   "execution_count": 141,
   "id": "f99d4c96-77a5-4957-8fa7-09366c132bdd",
   "metadata": {},
   "outputs": [],
   "source": [
    "team_one = md.pop('team_one_players')\n",
    "team_two = md.pop('team_two_players')\n",
    "md.insert(13, 'team_one_players', team_one)\n",
    "md.insert(14, 'team_two_players', team_two)"
   ]
  },
  {
   "cell_type": "code",
   "execution_count": 142,
   "id": "3e3dacce-308d-484f-848f-f1ed14de9a35",
   "metadata": {},
   "outputs": [],
   "source": [
    "team_one = xd.pop('team_one_players')\n",
    "team_two = xd.pop('team_two_players')\n",
    "xd.insert(13, 'team_one_players', team_one)\n",
    "xd.insert(14, 'team_two_players', team_two)"
   ]
  },
  {
   "cell_type": "markdown",
   "id": "219bf0fb-b523-49bc-ae87-0d9e71837152",
   "metadata": {},
   "source": [
    "#### Women's Doubles (WD)"
   ]
  },
  {
   "cell_type": "code",
   "execution_count": 143,
   "id": "9d7352cb-6a84-4f81-84d7-e6e989bfdd47",
   "metadata": {},
   "outputs": [],
   "source": [
    "wd['game_2_score'] = wd['game_2_score'].fillna('0-0')\n",
    "wd['game_3_score'] = wd['game_3_score'].fillna('0-0')\n",
    "wd['team_one_most_consecutive_points_game_2'] = wd['team_one_most_consecutive_points_game_2'].fillna(0)\n",
    "wd['team_two_most_consecutive_points_game_2'] = wd['team_two_most_consecutive_points_game_2'].fillna(0)\n",
    "wd['team_one_most_consecutive_points_game_3'] = wd['team_one_most_consecutive_points_game_3'].fillna(0)\n",
    "wd['team_two_most_consecutive_points_game_3'] = wd['team_two_most_consecutive_points_game_3'].fillna(0)\n",
    "wd['team_one_game_points_game_2'] = wd['team_one_game_points_game_2'].fillna(0)\n",
    "wd['team_two_game_points_game_2'] = wd['team_two_game_points_game_2'].fillna(0)\n",
    "wd['team_one_game_points_game_3'] = wd['team_one_game_points_game_3'].fillna(0)\n",
    "wd['team_two_game_points_game_3'] = wd['team_two_game_points_game_3'].fillna(0)"
   ]
  },
  {
   "cell_type": "code",
   "execution_count": 144,
   "id": "e1375df6-e236-4862-8348-2dafbc2bd4d8",
   "metadata": {},
   "outputs": [],
   "source": [
    "wd = wd[wd.retired ==  False]\n",
    "wd.drop(columns=['retired'], inplace=True)"
   ]
  },
  {
   "cell_type": "code",
   "execution_count": 145,
   "id": "5ef9dcb8-ee31-4e00-b01c-937675686b90",
   "metadata": {},
   "outputs": [],
   "source": [
    "# Create two new columns containing each player's points in game one by splitting 'game_1_score'\n",
    "wd[['team_one_game_1_points', 'team_two_game_1_points']] = wd.game_1_score.str.split('-', expand=True)\n",
    "wd[['team_one_game_2_points', 'team_two_game_2_points']] = wd.game_2_score.str.split('-', expand=True)\n",
    "wd[['team_one_game_3_points', 'team_two_game_3_points']] = wd.game_3_score.str.split('-', expand=True)"
   ]
  },
  {
   "cell_type": "code",
   "execution_count": 146,
   "id": "8d304419-7630-4447-9d74-6d9a708bc1d0",
   "metadata": {},
   "outputs": [],
   "source": [
    "# Replace Null values, which we identified do not occur in any game one columns, with zero\n",
    "wd['team_one_game_2_points'] = wd['team_one_game_2_points'].fillna(0)\n",
    "wd['team_two_game_2_points'] = wd['team_two_game_2_points'].fillna(0)\n",
    "wd['team_one_game_3_points'] = wd['team_one_game_3_points'].fillna(0)\n",
    "wd['team_two_game_3_points'] = wd['team_two_game_3_points'].fillna(0)"
   ]
  },
  {
   "cell_type": "code",
   "execution_count": 147,
   "id": "1d928e68-0ac4-4c78-ba0f-5ec167ecdde2",
   "metadata": {},
   "outputs": [],
   "source": [
    "# Create new columns based on above with number representing player who won each game\n",
    "# As game can go beyond 21 condition is simply >\n",
    "# np.where() returns player one ('1') if condition is met, else returns player two ('2')\n",
    "wd['game_1_winner'] = np.where(wd['team_one_game_1_points'] > wd['team_two_game_1_points'], 1, 2)\n",
    "wd['game_2_winner'] = np.where(wd['team_one_game_2_points'] > wd['team_two_game_2_points'], 1, 2)\n",
    "wd['game_3_winner'] = np.where(wd['team_one_game_3_points'] > wd['team_two_game_3_points'], 1, 2)"
   ]
  },
  {
   "cell_type": "code",
   "execution_count": 148,
   "id": "b9f3dfbc-0c6a-4a57-89f6-22203098d36d",
   "metadata": {},
   "outputs": [],
   "source": [
    "# Replace the erroneous '2's with '0's when a game three was not played\n",
    "wd.loc[((wd.team_one_game_3_points==0) & (wd.team_two_game_3_points==0)), 'game_3_winner']=0"
   ]
  },
  {
   "cell_type": "code",
   "execution_count": 149,
   "id": "b02013ee-e478-4c75-a5b3-59bbce0f8d47",
   "metadata": {},
   "outputs": [],
   "source": [
    "# Function to find the first 'instance' of 11 points being scored, signalling the interval\n",
    "def interval_score(array):\n",
    "    '''\n",
    "    extract score on interval (11 points) on a single game\n",
    "    '''\n",
    "    \n",
    "    for a in array:\n",
    "        if '11' in a:\n",
    "            interval_score = a.strip(\"'] [ \")\n",
    "            return interval_score\n",
    "            break"
   ]
  },
  {
   "cell_type": "code",
   "execution_count": 150,
   "id": "97fc8f09-c11a-4c84-a7c6-aef848f3c220",
   "metadata": {},
   "outputs": [],
   "source": [
    "# Extract the score at the mid-game interval from the List of each games' score.\n",
    "wd['game_1_interval_score'] = wd['game_1_scores'].apply(lambda x: interval_score(x.split(',')) if isinstance(x, str) else '0-0')\n",
    "wd['game_2_interval_score'] = wd['game_2_scores'].apply(lambda x: interval_score(x.split(',')) if isinstance(x, str) else '0-0')\n",
    "wd['game_3_interval_score'] = wd['game_3_scores'].apply(lambda x: interval_score(x.split(',')) if isinstance(x, str) else '0-0')"
   ]
  },
  {
   "cell_type": "code",
   "execution_count": 151,
   "id": "61c2d1d6-c792-4d33-b575-e3cef7acb2d6",
   "metadata": {},
   "outputs": [],
   "source": [
    "# Function to identify which player reached the interal by regex searching the scoreline string for Player 1 reaching 11, else Player 2\n",
    "def interval_winner(string):\n",
    "    if re.search('^11', string):\n",
    "        player = 1\n",
    "    else:\n",
    "        player = 2\n",
    "    return player"
   ]
  },
  {
   "cell_type": "code",
   "execution_count": 152,
   "id": "69728b81-60ca-4e7a-899b-17f60376083a",
   "metadata": {},
   "outputs": [],
   "source": [
    "# Apply above function to dataframe, we can now compare how influential reaching the Game 1 interval is to winning the first game\n",
    "wd['game_1_interval_winner'] = wd['game_1_interval_score'].apply(lambda x: interval_winner(str(x)))\n",
    "wd['game_2_interval_winner'] = wd['game_2_interval_score'].apply(lambda x: interval_winner(str(x)))\n",
    "wd['game_3_interval_winner'] = wd['game_3_interval_score'].apply(lambda x: interval_winner(str(x)))"
   ]
  },
  {
   "cell_type": "code",
   "execution_count": 153,
   "id": "9c1b2e79-1a0c-4bcf-91c9-dd83e9767b33",
   "metadata": {},
   "outputs": [],
   "source": [
    "# Similar to feature creation before, the new column 'game_3_interval_score' will contain erroneous '2's\n",
    "# As we are simply applying a basic function. Replace these with '0' where appropriate\n",
    "wd['game_3_interval_score'] = wd['game_3_interval_score'].fillna('0-0')\n",
    "wd.loc[wd.game_3_interval_score=='0-0', 'game_3_interval_winner']=0"
   ]
  },
  {
   "cell_type": "code",
   "execution_count": 154,
   "id": "971d28a4-0eb7-4f25-8c95-19019050e3aa",
   "metadata": {},
   "outputs": [],
   "source": [
    "wd.drop(columns=['tournament',\n",
    "                     'city',\n",
    "                     'country',\n",
    "                     'date',\n",
    "                     'tournament_type',\n",
    "                     'round',\n",
    "                     'team_one_player_one',\n",
    "                     'team_one_player_two',\n",
    "                     'team_two_player_one',\n",
    "                     'team_two_player_two',\n",
    "                     'team_one_player_one_nationality',\n",
    "                     'team_one_player_two_nationality',\n",
    "                     'team_two_player_one_nationality',\n",
    "                     'team_two_player_two_nationality',\n",
    "                     'team_one_total_points',\n",
    "                     'team_two_total_points',], inplace=True)"
   ]
  },
  {
   "cell_type": "code",
   "execution_count": 189,
   "id": "70dad2e3-f198-4f20-b006-a549740583bb",
   "metadata": {},
   "outputs": [],
   "source": [
    "wd.to_csv('data_cleaned/wd.csv', index=False)"
   ]
  },
  {
   "cell_type": "markdown",
   "id": "86769c87-5e31-4580-be64-10592c6e8d37",
   "metadata": {},
   "source": [
    "#### Men's Doubles (MD)"
   ]
  },
  {
   "cell_type": "code",
   "execution_count": 156,
   "id": "aa1ac4c6-9c75-4f5d-9168-f96799097320",
   "metadata": {},
   "outputs": [],
   "source": [
    "md['game_2_score'] = md['game_2_score'].fillna('0-0')\n",
    "md['game_3_score'] = md['game_3_score'].fillna('0-0')\n",
    "md['team_one_most_consecutive_points_game_2'] = md['team_one_most_consecutive_points_game_2'].fillna(0)\n",
    "md['team_two_most_consecutive_points_game_2'] = md['team_two_most_consecutive_points_game_2'].fillna(0)\n",
    "md['team_one_most_consecutive_points_game_3'] = md['team_one_most_consecutive_points_game_3'].fillna(0)\n",
    "md['team_two_most_consecutive_points_game_3'] = md['team_two_most_consecutive_points_game_3'].fillna(0)\n",
    "md['team_one_game_points_game_2'] = md['team_one_game_points_game_2'].fillna(0)\n",
    "md['team_two_game_points_game_2'] = md['team_two_game_points_game_2'].fillna(0)\n",
    "md['team_one_game_points_game_3'] = md['team_one_game_points_game_3'].fillna(0)\n",
    "md['team_two_game_points_game_3'] = md['team_two_game_points_game_3'].fillna(0)"
   ]
  },
  {
   "cell_type": "code",
   "execution_count": 157,
   "id": "7c864f33-a99f-4197-b82b-06ef39e3f73b",
   "metadata": {},
   "outputs": [],
   "source": [
    "md = md[md.retired ==  False]\n",
    "md.drop(columns=['retired'], inplace=True)"
   ]
  },
  {
   "cell_type": "code",
   "execution_count": 158,
   "id": "3e93f7ee-96ae-4cf2-994f-3e5d65d5f71f",
   "metadata": {},
   "outputs": [],
   "source": [
    "# Create two new columns containing each player's points in game one by splitting 'game_1_score'\n",
    "md[['team_one_game_1_points', 'team_two_game_1_points']] = md.game_1_score.str.split('-', expand=True)\n",
    "md[['team_one_game_2_points', 'team_two_game_2_points']] = md.game_2_score.str.split('-', expand=True)\n",
    "md[['team_one_game_3_points', 'team_two_game_3_points']] = md.game_3_score.str.split('-', expand=True)"
   ]
  },
  {
   "cell_type": "code",
   "execution_count": 159,
   "id": "bef7072d-7183-403f-a1e4-c9fc9efbe162",
   "metadata": {},
   "outputs": [],
   "source": [
    "# Replace Null values, which we identified do not occur in any game one columns, with zero\n",
    "md['team_one_game_2_points'] = md['team_one_game_2_points'].fillna(0)\n",
    "md['team_two_game_2_points'] = md['team_two_game_2_points'].fillna(0)\n",
    "md['team_one_game_3_points'] = md['team_one_game_3_points'].fillna(0)\n",
    "md['team_two_game_3_points'] = md['team_two_game_3_points'].fillna(0)"
   ]
  },
  {
   "cell_type": "code",
   "execution_count": 160,
   "id": "abc43fb1-b85b-412f-8fc0-d72a008eea7b",
   "metadata": {},
   "outputs": [],
   "source": [
    "# Create new columns based on above with number representing player who won each game\n",
    "# As game can go beyond 21 condition is simply >\n",
    "# np.where() returns player one ('1') if condition is met, else returns player two ('2')\n",
    "md['game_1_winner'] = np.where(md['team_one_game_1_points'] > md['team_two_game_1_points'], 1, 2)\n",
    "md['game_2_winner'] = np.where(md['team_one_game_2_points'] > md['team_two_game_2_points'], 1, 2)\n",
    "md['game_3_winner'] = np.where(md['team_one_game_3_points'] > md['team_two_game_3_points'], 1, 2)"
   ]
  },
  {
   "cell_type": "code",
   "execution_count": 161,
   "id": "d470a126-1590-4248-a63d-88cf16d0401c",
   "metadata": {},
   "outputs": [],
   "source": [
    "# Replace the erroneous '2's with '0's when a game three was not played\n",
    "md.loc[((wd.team_one_game_3_points==0) & (md.team_two_game_3_points==0)), 'game_3_winner']=0"
   ]
  },
  {
   "cell_type": "code",
   "execution_count": 162,
   "id": "0a72cc67-8651-4a79-a227-149d1ff8e1e3",
   "metadata": {},
   "outputs": [],
   "source": [
    "# Extract the score at the mid-game interval from the List of each games' score.\n",
    "md['game_1_interval_score'] = md['game_1_scores'].apply(lambda x: interval_score(x.split(',')) if isinstance(x, str) else '0-0')\n",
    "md['game_2_interval_score'] = md['game_2_scores'].apply(lambda x: interval_score(x.split(',')) if isinstance(x, str) else '0-0')\n",
    "md['game_3_interval_score'] = md['game_3_scores'].apply(lambda x: interval_score(x.split(',')) if isinstance(x, str) else '0-0')"
   ]
  },
  {
   "cell_type": "code",
   "execution_count": 163,
   "id": "22fb2e13-fa1a-4975-a023-11509061faa5",
   "metadata": {},
   "outputs": [],
   "source": [
    "# Apply above function to dataframe, we can now compare how influential reaching the Game 1 interval is to winning the first game\n",
    "md['game_1_interval_winner'] = md['game_1_interval_score'].apply(lambda x: interval_winner(str(x)))\n",
    "md['game_2_interval_winner'] = md['game_2_interval_score'].apply(lambda x: interval_winner(str(x)))\n",
    "md['game_3_interval_winner'] = md['game_3_interval_score'].apply(lambda x: interval_winner(str(x)))"
   ]
  },
  {
   "cell_type": "code",
   "execution_count": 164,
   "id": "9a19d5f8-cf34-4430-aafc-d6a030682f7f",
   "metadata": {},
   "outputs": [],
   "source": [
    "# Similar to feature creation before, the new column 'game_3_interval_score' will contain erroneous '2's\n",
    "# As we are simply applying a basic function. Replace these with '0' where appropriate\n",
    "md['game_3_interval_score'] = md['game_3_interval_score'].fillna('0-0')\n",
    "md.loc[md.game_3_interval_score=='0-0', 'game_3_interval_winner']=0"
   ]
  },
  {
   "cell_type": "code",
   "execution_count": 165,
   "id": "cfbd9b29-2eb7-4da7-b709-f43554a68905",
   "metadata": {},
   "outputs": [],
   "source": [
    "md.drop(columns=['tournament',\n",
    "                     'city',\n",
    "                     'country',\n",
    "                     'date',\n",
    "                     'tournament_type',\n",
    "                     'round',\n",
    "                     'team_one_player_one',\n",
    "                     'team_one_player_two',\n",
    "                     'team_two_player_one',\n",
    "                     'team_two_player_two',\n",
    "                     'team_one_player_one_nationality',\n",
    "                     'team_one_player_two_nationality',\n",
    "                     'team_two_player_one_nationality',\n",
    "                     'team_two_player_two_nationality',\n",
    "                     'team_one_total_points',\n",
    "                     'team_two_total_points',], inplace=True)"
   ]
  },
  {
   "cell_type": "code",
   "execution_count": 190,
   "id": "052af00c-262d-4c3b-9fbc-044a74b558ae",
   "metadata": {},
   "outputs": [],
   "source": [
    "md.to_csv('data_cleaned/md.csv', index=False)"
   ]
  },
  {
   "cell_type": "markdown",
   "id": "7d706de4-1b6e-44b8-a9ef-1d6313a1faf8",
   "metadata": {},
   "source": [
    "#### Mixed Doubles (XD)"
   ]
  },
  {
   "cell_type": "code",
   "execution_count": 167,
   "id": "803305f2-f05a-4f90-ab0c-2423dc72e879",
   "metadata": {},
   "outputs": [],
   "source": [
    "xd['game_2_score'] = xd['game_2_score'].fillna('0-0')\n",
    "xd['game_3_score'] = xd['game_3_score'].fillna('0-0')\n",
    "xd['team_one_most_consecutive_points_game_2'] = xd['team_one_most_consecutive_points_game_2'].fillna(0)\n",
    "xd['team_two_most_consecutive_points_game_2'] = xd['team_two_most_consecutive_points_game_2'].fillna(0)\n",
    "xd['team_one_most_consecutive_points_game_3'] = xd['team_one_most_consecutive_points_game_3'].fillna(0)\n",
    "xd['team_two_most_consecutive_points_game_3'] = xd['team_two_most_consecutive_points_game_3'].fillna(0)\n",
    "xd['team_one_game_points_game_2'] = xd['team_one_game_points_game_2'].fillna(0)\n",
    "xd['team_two_game_points_game_2'] = xd['team_two_game_points_game_2'].fillna(0)\n",
    "xd['team_one_game_points_game_3'] = xd['team_one_game_points_game_3'].fillna(0)\n",
    "xd['team_two_game_points_game_3'] = xd['team_two_game_points_game_3'].fillna(0)"
   ]
  },
  {
   "cell_type": "code",
   "execution_count": 168,
   "id": "a54a834d-8283-412d-bb43-24a527dd7fee",
   "metadata": {},
   "outputs": [],
   "source": [
    "xd = xd[xd.retired ==  False]\n",
    "xd.drop(columns=['retired'], inplace=True)"
   ]
  },
  {
   "cell_type": "code",
   "execution_count": 169,
   "id": "a2c918f2-c607-423a-978a-c6f924b78f93",
   "metadata": {},
   "outputs": [],
   "source": [
    "# Create two new columns containing each player's points in game one by splitting 'game_1_score'\n",
    "xd[['team_one_game_1_points', 'team_two_game_1_points']] = xd.game_1_score.str.split('-', expand=True)\n",
    "xd[['team_one_game_2_points', 'team_two_game_2_points']] = xd.game_2_score.str.split('-', expand=True)\n",
    "xd[['team_one_game_3_points', 'team_two_game_3_points']] = xd.game_3_score.str.split('-', expand=True)"
   ]
  },
  {
   "cell_type": "code",
   "execution_count": 170,
   "id": "227780e7-785f-4b40-8470-7001c1898d4e",
   "metadata": {},
   "outputs": [],
   "source": [
    "# Replace Null values, which we identified do not occur in any game one columns, with zero\n",
    "xd['team_one_game_2_points'] = xd['team_one_game_2_points'].fillna(0)\n",
    "xd['team_two_game_2_points'] = xd['team_two_game_2_points'].fillna(0)\n",
    "xd['team_one_game_3_points'] = xd['team_one_game_3_points'].fillna(0)\n",
    "xd['team_two_game_3_points'] = xd['team_two_game_3_points'].fillna(0)"
   ]
  },
  {
   "cell_type": "code",
   "execution_count": 171,
   "id": "6103c40d-275d-4f26-9189-9b6be27f8103",
   "metadata": {},
   "outputs": [],
   "source": [
    "# Create new columns based on above with number representing player who won each game\n",
    "# As game can go beyond 21 condition is simply >\n",
    "# np.where() returns player one ('1') if condition is met, else returns player two ('2')\n",
    "xd['game_1_winner'] = np.where(xd['team_one_game_1_points'] > xd['team_two_game_1_points'], 1, 2)\n",
    "xd['game_2_winner'] = np.where(xd['team_one_game_2_points'] > xd['team_two_game_2_points'], 1, 2)\n",
    "xd['game_3_winner'] = np.where(xd['team_one_game_3_points'] > xd['team_two_game_3_points'], 1, 2)"
   ]
  },
  {
   "cell_type": "code",
   "execution_count": 172,
   "id": "0251eae1-4f83-4ee5-8502-a920afc79258",
   "metadata": {},
   "outputs": [],
   "source": [
    "# Replace the erroneous '2's with '0's when a game three was not played\n",
    "xd.loc[((xd.team_one_game_3_points==0) & (xd.team_two_game_3_points==0)), 'game_3_winner']=0"
   ]
  },
  {
   "cell_type": "code",
   "execution_count": 173,
   "id": "2cccf9ec-8a26-4253-9195-481fa594fd82",
   "metadata": {},
   "outputs": [],
   "source": [
    "# Extract the score at the mid-game interval from the List of each games' score.\n",
    "xd['game_1_interval_score'] = xd['game_1_scores'].apply(lambda x: interval_score(x.split(',')) if isinstance(x, str) else '0-0')\n",
    "xd['game_2_interval_score'] = xd['game_2_scores'].apply(lambda x: interval_score(x.split(',')) if isinstance(x, str) else '0-0')\n",
    "xd['game_3_interval_score'] = xd['game_3_scores'].apply(lambda x: interval_score(x.split(',')) if isinstance(x, str) else '0-0')"
   ]
  },
  {
   "cell_type": "code",
   "execution_count": 174,
   "id": "061bf00d-9bf3-4907-bc4e-0c1a07377e24",
   "metadata": {},
   "outputs": [],
   "source": [
    "# Apply above function to dataframe, we can now compare how influential reaching the Game 1 interval is to winning the first game\n",
    "xd['game_1_interval_winner'] = xd['game_1_interval_score'].apply(lambda x: interval_winner(str(x)))\n",
    "xd['game_2_interval_winner'] = xd['game_2_interval_score'].apply(lambda x: interval_winner(str(x)))\n",
    "xd['game_3_interval_winner'] = xd['game_3_interval_score'].apply(lambda x: interval_winner(str(x)))"
   ]
  },
  {
   "cell_type": "code",
   "execution_count": 175,
   "id": "a30c273c-0e92-40b3-8dbc-d4a875916f51",
   "metadata": {},
   "outputs": [],
   "source": [
    "# Similar to feature creation before, the new column 'game_3_interval_score' will contain erroneous '2's\n",
    "# As we are simply applying a basic function. Replace these with '0' where appropriate\n",
    "xd['game_3_interval_score'] = xd['game_3_interval_score'].fillna('0-0')\n",
    "xd.loc[xd.game_3_interval_score=='0-0', 'game_3_interval_winner']=0"
   ]
  },
  {
   "cell_type": "code",
   "execution_count": 176,
   "id": "ee572a8b-909d-4ed3-b691-5439d8bea38b",
   "metadata": {},
   "outputs": [],
   "source": [
    "xd.drop(columns=['tournament',\n",
    "                     'city',\n",
    "                     'country',\n",
    "                     'date',\n",
    "                     'tournament_type',\n",
    "                     'round',\n",
    "                     'team_one_player_one',\n",
    "                     'team_one_player_two',\n",
    "                     'team_two_player_one',\n",
    "                     'team_two_player_two',\n",
    "                     'team_one_player_one_nationality',\n",
    "                     'team_one_player_two_nationality',\n",
    "                     'team_two_player_one_nationality',\n",
    "                     'team_two_player_two_nationality',\n",
    "                     'team_one_total_points',\n",
    "                     'team_two_total_points',], inplace=True)"
   ]
  },
  {
   "cell_type": "code",
   "execution_count": 191,
   "id": "dfe88fc5-25a8-4162-b3fb-5b103eb1d6d4",
   "metadata": {},
   "outputs": [],
   "source": [
    "xd.to_csv('data_cleaned/xd.csv', index=False)"
   ]
  },
  {
   "cell_type": "markdown",
   "id": "d4fd184f-4b3f-4cc9-ae3a-5cf95a8b6ed7",
   "metadata": {},
   "source": [
    "#### Women's Singles (WS)"
   ]
  },
  {
   "cell_type": "code",
   "execution_count": 178,
   "id": "588436ef-eee1-4724-99c3-38c19197175d",
   "metadata": {},
   "outputs": [],
   "source": [
    "ws['game_2_score'] = ws['game_2_score'].fillna('0-0')\n",
    "ws['game_3_score'] = ws['game_3_score'].fillna('0-0')\n",
    "ws['team_one_most_consecutive_points_game_2'] = ws['team_one_most_consecutive_points_game_2'].fillna(0)\n",
    "ws['team_two_most_consecutive_points_game_2'] = ws['team_two_most_consecutive_points_game_2'].fillna(0)\n",
    "ws['team_one_most_consecutive_points_game_3'] = ws['team_one_most_consecutive_points_game_3'].fillna(0)\n",
    "ws['team_two_most_consecutive_points_game_3'] = ws['team_two_most_consecutive_points_game_3'].fillna(0)\n",
    "ws['team_one_game_points_game_2'] = ws['team_one_game_points_game_2'].fillna(0)\n",
    "ws['team_two_game_points_game_2'] = ws['team_two_game_points_game_2'].fillna(0)\n",
    "ws['team_one_game_points_game_3'] = ws['team_one_game_points_game_3'].fillna(0)\n",
    "ws['team_two_game_points_game_3'] = ws['team_two_game_points_game_3'].fillna(0)"
   ]
  },
  {
   "cell_type": "code",
   "execution_count": 179,
   "id": "41c13628-3693-420e-a029-71f1868d3b03",
   "metadata": {},
   "outputs": [],
   "source": [
    "ws = ws[ws.retired ==  False]\n",
    "ws.drop(columns=['retired'], inplace=True)"
   ]
  },
  {
   "cell_type": "code",
   "execution_count": 180,
   "id": "0ab3ce5a-eb03-4201-8e7c-0f7888ffc1b2",
   "metadata": {},
   "outputs": [],
   "source": [
    "# Create two new columns containing each player's points in game one by splitting 'game_1_score'\n",
    "ws[['team_one_game_1_points', 'team_two_game_1_points']] = ws.game_1_score.str.split('-', expand=True)\n",
    "ws[['team_one_game_2_points', 'team_two_game_2_points']] = ws.game_2_score.str.split('-', expand=True)\n",
    "ws[['team_one_game_3_points', 'team_two_game_3_points']] = ws.game_3_score.str.split('-', expand=True)"
   ]
  },
  {
   "cell_type": "code",
   "execution_count": 181,
   "id": "f3476688-31ee-4d71-997e-094b3fcf3e08",
   "metadata": {},
   "outputs": [],
   "source": [
    "# Replace Null values, which we identified do not occur in any game one columns, with zero\n",
    "ws['team_one_game_2_points'] = ws['team_one_game_2_points'].fillna(0)\n",
    "ws['team_two_game_2_points'] = ws['team_two_game_2_points'].fillna(0)\n",
    "ws['team_one_game_3_points'] = ws['team_one_game_3_points'].fillna(0)\n",
    "ws['team_two_game_3_points'] = ws['team_two_game_3_points'].fillna(0)"
   ]
  },
  {
   "cell_type": "code",
   "execution_count": 182,
   "id": "37356b01-7e8e-4b0f-a8e3-b988a7e85ef5",
   "metadata": {},
   "outputs": [],
   "source": [
    "# Create new columns based on above with number representing player who won each game\n",
    "# As game can go beyond 21 condition is simply >\n",
    "# np.where() returns player one ('1') if condition is met, else returns player two ('2')\n",
    "ws['game_1_winner'] = np.where(ws['team_one_game_1_points'] > ws['team_two_game_1_points'], 1, 2)\n",
    "ws['game_2_winner'] = np.where(ws['team_one_game_2_points'] > ws['team_two_game_2_points'], 1, 2)\n",
    "ws['game_3_winner'] = np.where(ws['team_one_game_3_points'] > ws['team_two_game_3_points'], 1, 2)"
   ]
  },
  {
   "cell_type": "code",
   "execution_count": 183,
   "id": "ce2828e6-e465-4e46-bc14-4f0dc6cc5a74",
   "metadata": {},
   "outputs": [],
   "source": [
    "# Replace the erroneous '2's with '0's when a game three was not played\n",
    "ws.loc[((ws.team_one_game_3_points==0) & (ws.team_two_game_3_points==0)), 'game_3_winner']=0"
   ]
  },
  {
   "cell_type": "code",
   "execution_count": 184,
   "id": "a70897a6-b888-4b4d-b4bf-eac34ee7aac9",
   "metadata": {},
   "outputs": [],
   "source": [
    "# Extract the score at the mid-game interval from the List of each games' score.\n",
    "ws['game_1_interval_score'] = ws['game_1_scores'].apply(lambda x: interval_score(x.split(',')) if isinstance(x, str) else '0-0')\n",
    "ws['game_2_interval_score'] = ws['game_2_scores'].apply(lambda x: interval_score(x.split(',')) if isinstance(x, str) else '0-0')\n",
    "ws['game_3_interval_score'] = ws['game_3_scores'].apply(lambda x: interval_score(x.split(',')) if isinstance(x, str) else '0-0')"
   ]
  },
  {
   "cell_type": "code",
   "execution_count": 185,
   "id": "5f8f894d-90d6-4394-9dda-b34683898de1",
   "metadata": {},
   "outputs": [],
   "source": [
    "# Apply above function to dataframe, we can now compare how influential reaching the Game 1 interval is to winning the first game\n",
    "ws['game_1_interval_winner'] = ws['game_1_interval_score'].apply(lambda x: interval_winner(str(x)))\n",
    "ws['game_2_interval_winner'] = ws['game_2_interval_score'].apply(lambda x: interval_winner(str(x)))\n",
    "ws['game_3_interval_winner'] = ws['game_3_interval_score'].apply(lambda x: interval_winner(str(x)))"
   ]
  },
  {
   "cell_type": "code",
   "execution_count": 186,
   "id": "ff9f637e-61f4-4f53-8eec-c3d822a4b4dd",
   "metadata": {},
   "outputs": [],
   "source": [
    "# Similar to feature creation before, the new column 'game_3_interval_score' will contain erroneous '2's\n",
    "# As we are simply applying a basic function. Replace these with '0' where appropriate\n",
    "ws['game_3_interval_score'] = ws['game_3_interval_score'].fillna('0-0')\n",
    "ws.loc[ws.game_3_interval_score=='0-0', 'game_3_interval_winner']=0"
   ]
  },
  {
   "cell_type": "code",
   "execution_count": 187,
   "id": "463a42bb-e5bd-485a-b296-3cc851365f06",
   "metadata": {},
   "outputs": [],
   "source": [
    "ws.drop(columns=['tournament',\n",
    "                     'city',\n",
    "                     'country',\n",
    "                     'date',\n",
    "                     'tournament_type',\n",
    "                     'round',\n",
    "                     'team_one_nationalities',\n",
    "                     'team_two_nationalities',\n",
    "                     'team_one_total_points',\n",
    "                     'team_two_total_points',], inplace=True)"
   ]
  },
  {
   "cell_type": "code",
   "execution_count": 192,
   "id": "dfb37731-50ae-455d-b9f6-2f327cd2bd2c",
   "metadata": {},
   "outputs": [],
   "source": [
    "ws.to_csv('data_cleaned/ws.csv', index=False)"
   ]
  }
 ],
 "metadata": {
  "kernelspec": {
   "display_name": "Python 3 (ipykernel)",
   "language": "python",
   "name": "python3"
  },
  "language_info": {
   "codemirror_mode": {
    "name": "ipython",
    "version": 3
   },
   "file_extension": ".py",
   "mimetype": "text/x-python",
   "name": "python",
   "nbconvert_exporter": "python",
   "pygments_lexer": "ipython3",
   "version": "3.10.1"
  }
 },
 "nbformat": 4,
 "nbformat_minor": 5
}
