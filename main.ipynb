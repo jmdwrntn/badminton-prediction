{
 "cells": [
  {
   "cell_type": "markdown",
   "id": "70b56ce3-d42a-41f7-bed6-514ea79da0f1",
   "metadata": {
    "jp-MarkdownHeadingCollapsed": true,
    "tags": []
   },
   "source": [
    "# Supervised learning case study \n",
    "## Dataset information\n",
    "\n",
    "* Dataset scraped from Badminton World Federation (BWF) website and uploaded to [Kaggle](https://www.kaggle.com/sanderp/badminton-bwf-world-tour)\n",
    "* Each record is a specific match played at a professional tournament, with the data split up into disciplines\n",
    "* The purpose of the analysis is to identify whether any checkpoints in matches, such as the mid-game interval at 11 points, can be used to predict the outcome. Similar statistics are provided in other sports such as football\n",
    "\n",
    "Variable | Description\n",
    "---------|------------\n",
    "tournament | The name of the tournament\n",
    "city | The city the tournament is played\n",
    "country | The country this tournament is played\n",
    "date | The date this match is played\n",
    "tournament_type | The type of this tournament (Super 100 - Super 1000)\n",
    "discipline | The discipline of this match (useful when merging different datasets)\n",
    "round | The round of this match in the tournament\n",
    "winner | Number (1 or 2) specifying if team 1 or team 2 won the match (0 if one of the teams retired)\n",
    "nb_sets | Number of sets played\n",
    "retired | Boolean stating if a team retired\n",
    "gameiscore | Final score of game i\n",
    "teamoneplayers | Name of the player of team one\n",
    "teamtwoplayers | Name of the player of team two\n",
    "teamonenationalities | Abbreviation of the nationality of the player of team one\n",
    "teamtwonationalities | Abbreviation of the nationality of the player of team two\n",
    "teamonetotal_points | Total number of points scored by team one during the match\n",
    "teamtwototal_points | Total number of points scored by team two during the match\n",
    "teamonemostconsecutivepoints | Most conseccutive points scores by team one during the match\n",
    "teamtwomostconsecutivepoints | Most conseccutive points scores by team two during the match\n",
    "teamonegame_points | Total number of game points team one had during the match\n",
    "teamtwogame_points | Total number of game points team two had during the match\n",
    "teamonemostconsecutivepointsgamei | Most consecutive points scores by team one during game i\n",
    "teamtwomostconsecutivepointsgamei | Most consecutive points scores by team two during game i\n",
    "teamonegamepointsgame_i | Total number of game points team one had during game i\n",
    "teamtwogamepointsgame_i | Total number of game points team two had during game i\n",
    "gameiscores | List of all score changes during game i\n"
   ]
  },
  {
   "cell_type": "code",
   "execution_count": 1,
   "id": "afb6a942-5873-4833-8878-d699eac6effe",
   "metadata": {},
   "outputs": [],
   "source": [
    "import pandas as pd \n",
    "import numpy as np\n",
    "import matplotlib.pyplot as plt\n",
    "import re\n",
    "import seaborn as sns\n",
    "import plotly.express as px"
   ]
  },
  {
   "cell_type": "code",
   "execution_count": 2,
   "id": "e7321beb-fa40-4292-8893-f8bdd1b01c1d",
   "metadata": {},
   "outputs": [],
   "source": [
    "%matplotlib inline"
   ]
  },
  {
   "cell_type": "code",
   "execution_count": 3,
   "id": "b260f060-cfe1-4079-9d42-a1129b24a126",
   "metadata": {},
   "outputs": [],
   "source": [
    "pd.set_option('display.max_columns', None)"
   ]
  },
  {
   "cell_type": "markdown",
   "id": "250c0aae-6d1a-4c0a-ab6b-cd7daa2bf675",
   "metadata": {
    "tags": []
   },
   "source": [
    "### Preparing the data\n",
    "The disciplines of badminton are split into two groups: singles and doubles. The datasets share the majority of columns however the doubles datasets feature two additional columns for the two additional players in each game. As we are not concerned with directly comparing players, the player name and nationality columns will be dropped and comparisons will be between 'Team 1' and 'Team 2'."
   ]
  },
  {
   "cell_type": "code",
   "execution_count": 4,
   "id": "2549e1ad-02a0-4c70-986b-119828599e22",
   "metadata": {},
   "outputs": [],
   "source": [
    "# Read all disciplines into respective DataFrames\n",
    "ms = pd.read_csv('data_original/ms.csv')\n",
    "ws = pd.read_csv('data_original/ws.csv')\n",
    "wd = pd.read_csv('data_original/wd.csv')\n",
    "md = pd.read_csv('data_original/md.csv')\n",
    "xd = pd.read_csv('data_original/xd.csv')"
   ]
  },
  {
   "cell_type": "code",
   "execution_count": 5,
   "id": "95c0c884-2242-4f3d-8894-edf43cd1f4f6",
   "metadata": {},
   "outputs": [],
   "source": [
    "def drop_names_singles(df):\n",
    "    df = df.copy()\n",
    "    df.drop(columns=['team_one_players',\n",
    "                     'team_two_players',\n",
    "                     'team_one_nationalities',\n",
    "                     'team_two_nationalities',],inplace=True)\n",
    "    return df"
   ]
  },
  {
   "cell_type": "code",
   "execution_count": 6,
   "id": "0cea2482-f4f6-4bb2-9e72-ed19b6a0f387",
   "metadata": {},
   "outputs": [],
   "source": [
    "def drop_names_doubles(df):\n",
    "    df = df.copy()\n",
    "    df.drop(columns=['team_one_player_one',\n",
    "                     'team_one_player_two',\n",
    "                     'team_two_player_one',\n",
    "                     'team_two_player_two',\n",
    "                     'team_one_player_one_nationality',\n",
    "                     'team_one_player_two_nationality',\n",
    "                     'team_two_player_one_nationality',\n",
    "                     'team_two_player_two_nationality',],inplace=True)\n",
    "    return df"
   ]
  },
  {
   "cell_type": "code",
   "execution_count": 7,
   "id": "e9107049-ffe0-4064-aa1f-dfcbdb90d22a",
   "metadata": {},
   "outputs": [],
   "source": [
    "# Remove player names and nationalities from each dataset\n",
    "# Columns are now equal across all disciplines and can be joined into one DataFrame\n",
    "ms = drop_names_singles(ms)\n",
    "ws = drop_names_singles(ws)\n",
    "wd = drop_names_doubles(wd)\n",
    "md = drop_names_doubles(md)\n",
    "xd = drop_names_doubles(xd)"
   ]
  },
  {
   "cell_type": "code",
   "execution_count": 8,
   "id": "f948b17f-171c-4db3-8359-7bc1572d73db",
   "metadata": {},
   "outputs": [],
   "source": [
    "# Concatenate all disciplines into one DataFrame\n",
    "frames = [ms, ws, wd, md, xd]\n",
    "df = pd.concat(frames)"
   ]
  },
  {
   "cell_type": "code",
   "execution_count": 9,
   "id": "0b0e30e1-9610-43a8-8d90-5ce12b34bdf2",
   "metadata": {},
   "outputs": [],
   "source": [
    "# Reset the index and index from 0 to number of rows\n",
    "df = df.reset_index(drop = True) "
   ]
  },
  {
   "cell_type": "code",
   "execution_count": 10,
   "id": "9bf5df18-8c45-4d38-8b1e-43bf1791f101",
   "metadata": {},
   "outputs": [],
   "source": [
    "# Rename columns to shorthand version. Some of these columns will be dropped later on in the analysis\n",
    "# But for now it will be easier to create a naming convention for new features to follow\n",
    "df = df.rename(columns={'tournament':'tourney',\n",
    "                        'tournament_type':'tourny_type',\n",
    "                        'discipline':'disc',\n",
    "                        'nb_sets':'games',\n",
    "                        'game_1_score':'g1_score',\n",
    "                        'game_2_score':'g2_score',\n",
    "                        'game_3_score':'g3_score',\n",
    "                        'team_one_total_points':'t1_ttl_pts',\n",
    "                        'team_two_total_points':'t2_ttl_pts',\n",
    "                        'team_one_most_consecutive_points':'t1_mst_con_pts',\n",
    "                        'team_two_most_consecutive_points':'t2_mst_con_pts',\n",
    "                        'team_one_game_points':'t1_ttl_game_pts',\n",
    "                        'team_two_game_points':'t2_ttl_game_pts',\n",
    "                        'team_one_most_consecutive_points_game_1':'t1_mst_con_pts_g1',\n",
    "                        'team_two_most_consecutive_points_game_1':'t2_mst_con_pts_g1',\n",
    "                        'team_one_game_points_game_1':'t1_game_pts_g1',\n",
    "                        'team_two_game_points_game_1':'t2_game_pts_g1',\n",
    "                        'game_1_scores':'g1_scores',\n",
    "                        'team_one_most_consecutive_points_game_2':'t1_mst_con_pts_g2',\n",
    "                        'team_two_most_consecutive_points_game_2':'t2_mst_con_pts_g2',\n",
    "                        'team_one_game_points_game_2':'t1_game_pts_g2',\n",
    "                        'team_two_game_points_game_2':'t2_game_pts_g2',\n",
    "                        'game_2_scores':'g2_scores',\n",
    "                        'team_one_most_consecutive_points_game_3':'t1_mst_con_pts_g3',\n",
    "                        'team_two_most_consecutive_points_game_3':'t2_mst_con_pts_g3',\n",
    "                        'team_one_game_points_game_3':'t1_game_pts_g3',\n",
    "                        'team_two_game_points_game_3':'t2_game_pts_g3',\n",
    "                        'game_3_scores':'g3_scores'})"
   ]
  },
  {
   "cell_type": "markdown",
   "id": "648c3523-ce29-4924-8ea0-f9a5ccbdd999",
   "metadata": {},
   "source": [
    "### Understanding the data\n",
    "Now that we have one DataFrame containing all matches across all disciplines, the next step is to understand the data to identify features of interest, gaps in the data, and any areas to clean or process."
   ]
  },
  {
   "cell_type": "code",
   "execution_count": 11,
   "id": "65f37ad5-99a8-4d8a-968e-35480a014b66",
   "metadata": {},
   "outputs": [
    {
     "data": {
      "text/plain": [
       "Index(['tourney', 'city', 'country', 'date', 'tourny_type', 'disc', 'round',\n",
       "       'winner', 'games', 'retired', 'g1_score', 'g2_score', 'g3_score',\n",
       "       't1_ttl_pts', 't2_ttl_pts', 't1_mst_con_pts', 't2_mst_con_pts',\n",
       "       't1_ttl_game_pts', 't2_ttl_game_pts', 't1_mst_con_pts_g1',\n",
       "       't2_mst_con_pts_g1', 't1_game_pts_g1', 't2_game_pts_g1', 'g1_scores',\n",
       "       't1_mst_con_pts_g2', 't2_mst_con_pts_g2', 't1_game_pts_g2',\n",
       "       't2_game_pts_g2', 'g2_scores', 't1_mst_con_pts_g3', 't2_mst_con_pts_g3',\n",
       "       't1_game_pts_g3', 't2_game_pts_g3', 'g3_scores'],\n",
       "      dtype='object')"
      ]
     },
     "execution_count": 11,
     "metadata": {},
     "output_type": "execute_result"
    }
   ],
   "source": [
    "df.columns # Visualising the dataframe columns"
   ]
  },
  {
   "cell_type": "code",
   "execution_count": 12,
   "id": "08b2380d-8677-4c4a-a174-010f82787e7f",
   "metadata": {},
   "outputs": [
    {
     "data": {
      "text/plain": [
       "tourney               object\n",
       "city                  object\n",
       "country               object\n",
       "date                  object\n",
       "tourny_type           object\n",
       "disc                  object\n",
       "round                 object\n",
       "winner                 int64\n",
       "games                  int64\n",
       "retired                 bool\n",
       "g1_score              object\n",
       "g2_score              object\n",
       "g3_score              object\n",
       "t1_ttl_pts             int64\n",
       "t2_ttl_pts             int64\n",
       "t1_mst_con_pts         int64\n",
       "t2_mst_con_pts         int64\n",
       "t1_ttl_game_pts        int64\n",
       "t2_ttl_game_pts        int64\n",
       "t1_mst_con_pts_g1      int64\n",
       "t2_mst_con_pts_g1      int64\n",
       "t1_game_pts_g1         int64\n",
       "t2_game_pts_g1         int64\n",
       "g1_scores             object\n",
       "t1_mst_con_pts_g2    float64\n",
       "t2_mst_con_pts_g2    float64\n",
       "t1_game_pts_g2       float64\n",
       "t2_game_pts_g2       float64\n",
       "g2_scores             object\n",
       "t1_mst_con_pts_g3    float64\n",
       "t2_mst_con_pts_g3    float64\n",
       "t1_game_pts_g3       float64\n",
       "t2_game_pts_g3       float64\n",
       "g3_scores             object\n",
       "dtype: object"
      ]
     },
     "execution_count": 12,
     "metadata": {},
     "output_type": "execute_result"
    }
   ],
   "source": [
    "df.dtypes"
   ]
  },
  {
   "cell_type": "code",
   "execution_count": 13,
   "id": "349f70e9-ddce-48bc-9e59-97ed0fde8017",
   "metadata": {},
   "outputs": [
    {
     "data": {
      "text/plain": [
       "(14918, 34)"
      ]
     },
     "execution_count": 13,
     "metadata": {},
     "output_type": "execute_result"
    }
   ],
   "source": [
    "df.shape # Visualise the shape of the data"
   ]
  },
  {
   "cell_type": "markdown",
   "id": "dc91f6c7-7b1f-4081-b00c-dfa9c49d49d7",
   "metadata": {},
   "source": [
    "## Data pre-processing\n",
    "### Missing value imputation"
   ]
  },
  {
   "cell_type": "code",
   "execution_count": 14,
   "id": "fe9a3d52-28c9-443f-b523-659d9a40b53c",
   "metadata": {},
   "outputs": [
    {
     "data": {
      "text/plain": [
       "tourney                  0\n",
       "city                     0\n",
       "country                  0\n",
       "date                     0\n",
       "tourny_type              0\n",
       "disc                     0\n",
       "round                    0\n",
       "winner                   0\n",
       "games                    0\n",
       "retired                  0\n",
       "g1_score                 0\n",
       "g2_score               107\n",
       "g3_score             10232\n",
       "t1_ttl_pts               0\n",
       "t2_ttl_pts               0\n",
       "t1_mst_con_pts           0\n",
       "t2_mst_con_pts           0\n",
       "t1_ttl_game_pts          0\n",
       "t2_ttl_game_pts          0\n",
       "t1_mst_con_pts_g1        0\n",
       "t2_mst_con_pts_g1        0\n",
       "t1_game_pts_g1           0\n",
       "t2_game_pts_g1           0\n",
       "g1_scores                0\n",
       "t1_mst_con_pts_g2      108\n",
       "t2_mst_con_pts_g2      108\n",
       "t1_game_pts_g2         108\n",
       "t2_game_pts_g2         108\n",
       "g2_scores               90\n",
       "t1_mst_con_pts_g3    10255\n",
       "t2_mst_con_pts_g3    10255\n",
       "t1_game_pts_g3       10255\n",
       "t2_game_pts_g3       10255\n",
       "g3_scores              108\n",
       "dtype: int64"
      ]
     },
     "execution_count": 14,
     "metadata": {},
     "output_type": "execute_result"
    }
   ],
   "source": [
    "df.isnull().sum() # Return the sum of occurrences of Null in each column"
   ]
  },
  {
   "cell_type": "markdown",
   "id": "002201e9-9616-4bba-ae47-aada3f1b3f2e",
   "metadata": {},
   "source": [
    "The dataset has a significant number of Null values, which can be explained by considering the dynamics of a badminton match. The columns with the most Null values regard a game three, which is only necessary if both team have won a single game each. Consequently, the Null values for game three indicate that either a team won the match in two straight games or a team retired."
   ]
  },
  {
   "cell_type": "code",
   "execution_count": 15,
   "id": "9c43e270-ff2a-4169-8ae2-51d69fdb50be",
   "metadata": {},
   "outputs": [],
   "source": [
    "# Reassign the DataFrame with retired matches filtered out and drop the column as it is no longer needed\n",
    "df = df[df.retired ==  False]\n",
    "df.drop(columns=['retired'], inplace=True)"
   ]
  },
  {
   "cell_type": "code",
   "execution_count": 16,
   "id": "f44a8b87-4e45-451e-9138-a1b1109e551e",
   "metadata": {},
   "outputs": [
    {
     "data": {
      "text/plain": [
       "tourney                  0\n",
       "city                     0\n",
       "country                  0\n",
       "date                     0\n",
       "tourny_type              0\n",
       "disc                     0\n",
       "round                    0\n",
       "winner                   0\n",
       "games                    0\n",
       "g1_score                 0\n",
       "g2_score                 0\n",
       "g3_score             10060\n",
       "t1_ttl_pts               0\n",
       "t2_ttl_pts               0\n",
       "t1_mst_con_pts           0\n",
       "t2_mst_con_pts           0\n",
       "t1_ttl_game_pts          0\n",
       "t2_ttl_game_pts          0\n",
       "t1_mst_con_pts_g1        0\n",
       "t2_mst_con_pts_g1        0\n",
       "t1_game_pts_g1           0\n",
       "t2_game_pts_g1           0\n",
       "g1_scores                0\n",
       "t1_mst_con_pts_g2        1\n",
       "t2_mst_con_pts_g2        1\n",
       "t1_game_pts_g2           1\n",
       "t2_game_pts_g2           1\n",
       "g2_scores                1\n",
       "t1_mst_con_pts_g3    10061\n",
       "t2_mst_con_pts_g3    10061\n",
       "t1_game_pts_g3       10061\n",
       "t2_game_pts_g3       10061\n",
       "g3_scores                1\n",
       "dtype: int64"
      ]
     },
     "execution_count": 16,
     "metadata": {},
     "output_type": "execute_result"
    }
   ],
   "source": [
    "df.isnull().sum() # Return the sum of occurrences of Null in each column"
   ]
  },
  {
   "cell_type": "markdown",
   "id": "3522af2a-961e-43f1-8c9c-66c72e2bb0b7",
   "metadata": {},
   "source": [
    "By removing games involving a retirement the Null values present in game two have been removed, as well as a portion of those in game three. There are still a significant number of Null values in game three, which we can verify are 'valid' Null values as the match has been completed in two straight games.\n",
    "\n",
    "If this assumption is proved true, the Null values will be replaced with either '0' or '0-0' depending on the column."
   ]
  },
  {
   "cell_type": "code",
   "execution_count": 17,
   "id": "b198be91-ae70-4aa6-8fa9-86591964f76a",
   "metadata": {},
   "outputs": [
    {
     "data": {
      "text/html": [
       "<div>\n",
       "<style scoped>\n",
       "    .dataframe tbody tr th:only-of-type {\n",
       "        vertical-align: middle;\n",
       "    }\n",
       "\n",
       "    .dataframe tbody tr th {\n",
       "        vertical-align: top;\n",
       "    }\n",
       "\n",
       "    .dataframe thead th {\n",
       "        text-align: right;\n",
       "    }\n",
       "</style>\n",
       "<table border=\"1\" class=\"dataframe\">\n",
       "  <thead>\n",
       "    <tr style=\"text-align: right;\">\n",
       "      <th></th>\n",
       "      <th>tourney</th>\n",
       "      <th>city</th>\n",
       "      <th>country</th>\n",
       "      <th>date</th>\n",
       "      <th>tourny_type</th>\n",
       "      <th>disc</th>\n",
       "      <th>round</th>\n",
       "      <th>winner</th>\n",
       "      <th>games</th>\n",
       "      <th>g1_score</th>\n",
       "      <th>g2_score</th>\n",
       "      <th>g3_score</th>\n",
       "      <th>t1_ttl_pts</th>\n",
       "      <th>t2_ttl_pts</th>\n",
       "      <th>t1_mst_con_pts</th>\n",
       "      <th>t2_mst_con_pts</th>\n",
       "      <th>t1_ttl_game_pts</th>\n",
       "      <th>t2_ttl_game_pts</th>\n",
       "      <th>t1_mst_con_pts_g1</th>\n",
       "      <th>t2_mst_con_pts_g1</th>\n",
       "      <th>t1_game_pts_g1</th>\n",
       "      <th>t2_game_pts_g1</th>\n",
       "      <th>g1_scores</th>\n",
       "      <th>t1_mst_con_pts_g2</th>\n",
       "      <th>t2_mst_con_pts_g2</th>\n",
       "      <th>t1_game_pts_g2</th>\n",
       "      <th>t2_game_pts_g2</th>\n",
       "      <th>g2_scores</th>\n",
       "      <th>t1_mst_con_pts_g3</th>\n",
       "      <th>t2_mst_con_pts_g3</th>\n",
       "      <th>t1_game_pts_g3</th>\n",
       "      <th>t2_game_pts_g3</th>\n",
       "      <th>g3_scores</th>\n",
       "    </tr>\n",
       "  </thead>\n",
       "  <tbody>\n",
       "  </tbody>\n",
       "</table>\n",
       "</div>"
      ],
      "text/plain": [
       "Empty DataFrame\n",
       "Columns: [tourney, city, country, date, tourny_type, disc, round, winner, games, g1_score, g2_score, g3_score, t1_ttl_pts, t2_ttl_pts, t1_mst_con_pts, t2_mst_con_pts, t1_ttl_game_pts, t2_ttl_game_pts, t1_mst_con_pts_g1, t2_mst_con_pts_g1, t1_game_pts_g1, t2_game_pts_g1, g1_scores, t1_mst_con_pts_g2, t2_mst_con_pts_g2, t1_game_pts_g2, t2_game_pts_g2, g2_scores, t1_mst_con_pts_g3, t2_mst_con_pts_g3, t1_game_pts_g3, t2_game_pts_g3, g3_scores]\n",
       "Index: []"
      ]
     },
     "execution_count": 17,
     "metadata": {},
     "output_type": "execute_result"
    }
   ],
   "source": [
    "# Return rows where three games have been played yet the 'game_3_score' is Null (should return 0)\n",
    "df.loc[((df['games'] == '3') & (df['g3_score'].isnull()))]"
   ]
  },
  {
   "cell_type": "code",
   "execution_count": 18,
   "id": "74653c6f-444c-4c2a-b628-9682d054c9d8",
   "metadata": {},
   "outputs": [],
   "source": [
    "# Replace 'valid' Null values with appropriate value\n",
    "df['g3_score'] = df['g3_score'].fillna('0-0')\n",
    "df['t1_mst_con_pts_g3'] = df['t1_mst_con_pts_g3'].fillna(0)\n",
    "df['t2_mst_con_pts_g3'] = df['t2_mst_con_pts_g3'].fillna(0)\n",
    "df['t1_game_pts_g3'] = df['t1_game_pts_g3'].fillna(0)\n",
    "df['t2_game_pts_g3'] = df['t2_game_pts_g3'].fillna(0)"
   ]
  },
  {
   "cell_type": "code",
   "execution_count": 19,
   "id": "bceceb13-79e2-4099-a91e-f17a9b518d15",
   "metadata": {},
   "outputs": [],
   "source": [
    "# One row still contained Null values which will simply be removed for simplicity\n",
    "df.loc[(df['g2_scores'].isnull())]\n",
    "df = df.drop(2790)"
   ]
  },
  {
   "cell_type": "code",
   "execution_count": 20,
   "id": "da60b9f3-c134-4958-9f81-754acd8767f4",
   "metadata": {},
   "outputs": [],
   "source": [
    "# Reset the index and index from 0 to number of rows\n",
    "df = df.reset_index(drop = True) "
   ]
  },
  {
   "cell_type": "markdown",
   "id": "335f293a-dddf-49ef-a1d1-cb82b4b7b933",
   "metadata": {},
   "source": [
    "### Feature engineering\n"
   ]
  },
  {
   "cell_type": "code",
   "execution_count": 21,
   "id": "fa74423e-1387-4d4f-a3b5-5d063825fa0c",
   "metadata": {},
   "outputs": [],
   "source": [
    "# Split the 'game_i_score' column into six new columns to extract each team's individual score per game\n",
    "df[['t1_pts_g1', 't2_pts_g1']] = df.g1_score.str.split('-', expand=True)\n",
    "df[['t1_pts_g2', 't2_pts_g2']] = df.g2_score.str.split('-', expand=True)\n",
    "df[['t1_pts_g3', 't2_pts_g3']] = df.g3_score.str.split('-', expand=True)"
   ]
  },
  {
   "cell_type": "code",
   "execution_count": 22,
   "id": "11e4fa2e-eb3e-4756-b09d-1682720b76cc",
   "metadata": {},
   "outputs": [],
   "source": [
    "# Find the winner of each game based on previously created score columns\n",
    "df['g1_winner'] = np.where(df['t1_pts_g1'] > df['t2_pts_g1'], 1, 2)\n",
    "df['g2_winner'] = np.where(df['t1_pts_g2'] > df['t2_pts_g2'], 1, 2)\n",
    "df['g3_winner'] = np.where(df['t1_pts_g3'] > df['t2_pts_g3'], 1, 2)"
   ]
  },
  {
   "cell_type": "code",
   "execution_count": 23,
   "id": "b02013ee-e478-4c75-a5b3-59bbce0f8d47",
   "metadata": {},
   "outputs": [],
   "source": [
    "# Function to find the first 'instance' of 11 points being scored, signalling the interval\n",
    "def interval_score(array):\n",
    "    '''\n",
    "    extract score on interval (11 points) on a single game\n",
    "    '''\n",
    "    \n",
    "    for a in array:\n",
    "        if '11' in a:\n",
    "            interval_score = a.strip(\"'] [ \")\n",
    "            return interval_score\n",
    "            break"
   ]
  },
  {
   "cell_type": "code",
   "execution_count": 24,
   "id": "97fc8f09-c11a-4c84-a7c6-aef848f3c220",
   "metadata": {},
   "outputs": [],
   "source": [
    "# Extract the score at the mid-game interval from the List of each games' score.\n",
    "df['g1_int'] = df['g1_scores'].apply(lambda x: interval_score(x.split(',')) if isinstance(x, str) else '0-0')\n",
    "df['g2_int'] = df['g2_scores'].apply(lambda x: interval_score(x.split(',')) if isinstance(x, str) else '0-0')\n",
    "df['g3_int'] = df['g3_scores'].apply(lambda x: interval_score(x.split(',')) if isinstance(x, str) else '0-0')"
   ]
  },
  {
   "cell_type": "code",
   "execution_count": 25,
   "id": "50ed78e6-a5cd-4d77-a156-1e87498514f1",
   "metadata": {},
   "outputs": [],
   "source": [
    "# Split the 'game_i_interval_score' column into six new columns to extract each team's individual score at each games interval\n",
    "df[['t1_pts_g1_int', 't2_pts_g1_int']] = df.g1_int.str.split('-', expand=True)\n",
    "df[['t1_pts_g2_int', 't2_pts_g2_int']] = df.g2_int.str.split('-', expand=True)\n",
    "df[['t1_pts_g3_int', 't2_pts_g3_int']] = df.g3_int.str.split('-', expand=True)"
   ]
  },
  {
   "cell_type": "code",
   "execution_count": 26,
   "id": "d729b89f-24ac-4470-b05e-b356fd109ef5",
   "metadata": {},
   "outputs": [],
   "source": [
    "# Find the 'winner' of each interval based on previously created interval score columns\n",
    "df['g1_int_winner'] = np.where(df['t1_pts_g1_int'] > df['t2_pts_g1_int'], 1, 2)\n",
    "df['g2_int_winner'] = np.where(df['t1_pts_g2_int'] > df['t2_pts_g2_int'], 1, 2)\n",
    "df['g3_int_winner'] = np.where(df['t1_pts_g3_int'] > df['t2_pts_g3_int'], 1, 2)"
   ]
  },
  {
   "cell_type": "code",
   "execution_count": 27,
   "id": "b9f3dfbc-0c6a-4a57-89f6-22203098d36d",
   "metadata": {},
   "outputs": [],
   "source": [
    "# Replace the erroneous entries introduced above with 0 or '0-0' when a game three was not played, where approrpriate\n",
    "df.loc[(df.games==2), 'g3_winner']=0\n",
    "df.loc[(df.games==2), 'g3_int']='0-0'\n",
    "df.loc[(df.games==2), 't1_pts_g3_int']=0\n",
    "df.loc[(df.games==2), 't2_pts_g3_int']=0\n",
    "df.loc[(df.games==2), 'g3_int_winner']=0"
   ]
  },
  {
   "cell_type": "code",
   "execution_count": 28,
   "id": "ad4b77a9-f1dd-4475-8715-ce16ba9a07b9",
   "metadata": {},
   "outputs": [],
   "source": [
    "# From this point, to simply the dataset and identify what features may correlate with a win, the analysis will be\n",
    "# centered on 'Team 1'. If they win the value will be '1', else '0'. This way we do not have to create two rows for each match\n",
    "# played, to account for one player winning and one losing\n",
    "df['win'] = np.where(df['winner']==1, 1, 0)"
   ]
  },
  {
   "cell_type": "code",
   "execution_count": 29,
   "id": "5007baea-2cd5-42a9-821c-ae32ccf3a9b4",
   "metadata": {},
   "outputs": [],
   "source": [
    "# Calculate relative point difference for each game\n",
    "df['g1_pt_dif'] = np.where(df['g1_winner']==1, df['t2_pts_g1'].astype(int) / df['t1_pts_g1'].astype(int), \n",
    "                           df['t1_pts_g1'].astype(int) / df['t2_pts_g1'].astype(int))\n",
    "df['g2_pt_dif'] = np.where(df['g2_winner']==1, df['t2_pts_g2'].astype(int) / df['t1_pts_g2'].astype(int), \n",
    "                           df['t1_pts_g2'].astype(int) / df['t2_pts_g2'].astype(int))\n",
    "df['g3_pt_dif'] = np.where(df['g3_winner']==1, df['t2_pts_g3'].astype(int) / df['t1_pts_g3'].astype(int), \n",
    "                           df['t1_pts_g3'].astype(int) / df['t2_pts_g3'].astype(int))"
   ]
  },
  {
   "cell_type": "code",
   "execution_count": 30,
   "id": "bd6f8c3d-0da9-4c47-86cd-fb1a1fff5e23",
   "metadata": {},
   "outputs": [],
   "source": [
    "# The cell below produces an error suggesting one or many of these columns contain None values\n",
    "# .value_counts does not identify these, so replacing with 0 is best option\n",
    "df.t1_pts_g2_int.fillna(value=0, inplace=True)\n",
    "df.t2_pts_g2_int.fillna(value=0, inplace=True)\n",
    "df.t1_pts_g3_int.fillna(value=0, inplace=True)\n",
    "df.t2_pts_g3_int.fillna(value=0, inplace=True)"
   ]
  },
  {
   "cell_type": "code",
   "execution_count": 31,
   "id": "11a8be5f-dedc-4ed5-af07-8b5c01101e70",
   "metadata": {},
   "outputs": [],
   "source": [
    "# Calculate relative point difference at each interval\n",
    "df['g1_int_pt_dif'] = np.where(df['g1_int_winner']==1, df['t2_pts_g1_int'].astype(int) / df['t1_pts_g1_int'].astype(int), \n",
    "                           df['t1_pts_g1_int'].astype(int) / df['t2_pts_g1_int'].astype(int))\n",
    "df['g2_int_pt_dif'] = np.where(df['g2_int_winner']==1, df['t2_pts_g2_int'].astype(int) / df['t1_pts_g2_int'].astype(int), \n",
    "                           df['t1_pts_g2_int'].astype(int) / df['t2_pts_g2_int'].astype(int))\n",
    "df['g3_int_pt_dif'] = np.where(df['g3_int_winner']==1, df['t2_pts_g3_int'].astype(int) / df['t1_pts_g3_int'].astype(int), \n",
    "                           df['t1_pts_g3_int'].astype(int) / df['t2_pts_g3_int'].astype(int))"
   ]
  },
  {
   "cell_type": "code",
   "execution_count": 32,
   "id": "2abad300-4fa6-4e73-9730-7bddcea78f8f",
   "metadata": {},
   "outputs": [],
   "source": [
    "# Replace any Null values introduced due to no game three being played\n",
    "df['g3_pt_dif'] = df['g3_pt_dif'].fillna(0)\n",
    "df['g3_int_pt_dif'] = df['g3_int_pt_dif'].fillna(0)"
   ]
  },
  {
   "cell_type": "code",
   "execution_count": 33,
   "id": "0391a2ff-87cf-4bb7-a28f-b566fde0e089",
   "metadata": {},
   "outputs": [],
   "source": [
    "# Only concerned with 'Team 1' so most consecutive points per game is t1's most consecutive points\n",
    "df['g1_mst_con_pts'] = df['t1_mst_con_pts_g1']\n",
    "df['g2_mst_con_pts'] = df['t1_mst_con_pts_g2']\n",
    "df['g3_mst_con_pts'] = df['t1_mst_con_pts_g3']"
   ]
  },
  {
   "cell_type": "code",
   "execution_count": 35,
   "id": "8742bdd9-bd39-4a86-af25-d86016597159",
   "metadata": {},
   "outputs": [],
   "source": [
    "# Import MinMaxScaler to normalise the newly created features\n",
    "from sklearn.preprocessing import MinMaxScaler\n",
    "scaler = MinMaxScaler()"
   ]
  },
  {
   "cell_type": "code",
   "execution_count": 36,
   "id": "aed00a2d-0507-48e6-ae1a-deff7cfd1eea",
   "metadata": {},
   "outputs": [],
   "source": [
    "# Normalise game point difference\n",
    "df['g1_pt_dif'] = scaler.fit_transform(df[['g1_pt_dif']])\n",
    "df['g2_pt_dif'] = scaler.fit_transform(df[['g2_pt_dif']])\n",
    "df['g3_pt_dif'] = scaler.fit_transform(df[['g3_pt_dif']])\n"
   ]
  },
  {
   "cell_type": "code",
   "execution_count": 37,
   "id": "ed291413-9f87-4cb9-98a0-9c40c0523ed0",
   "metadata": {},
   "outputs": [],
   "source": [
    "# Normalise interval point difference\n",
    "df['g1_int_pt_dif'] = scaler.fit_transform(df[['g1_int_pt_dif']])\n",
    "df['g2_int_pt_dif'] = scaler.fit_transform(df[['g2_int_pt_dif']])\n",
    "df['g3_int_pt_dif'] = scaler.fit_transform(df[['g3_int_pt_dif']])\n"
   ]
  },
  {
   "cell_type": "code",
   "execution_count": 38,
   "id": "06c6837a-17b0-4250-8995-188fd357feb9",
   "metadata": {},
   "outputs": [],
   "source": [
    "# Normalise most consecutive points per game\n",
    "df['g1_mst_con_pts'] = scaler.fit_transform(df[['g1_mst_con_pts']])\n",
    "df['g2_mst_con_pts'] = scaler.fit_transform(df[['g2_mst_con_pts']])\n",
    "df['g3_mst_con_pts'] = scaler.fit_transform(df[['g3_mst_con_pts']])"
   ]
  },
  {
   "cell_type": "markdown",
   "id": "7cd2459d-2fa2-40a7-8d32-57dfe6498277",
   "metadata": {},
   "source": [
    "Below features were scoped out but kept in the notebook for future reference."
   ]
  },
  {
   "cell_type": "code",
   "execution_count": 38,
   "id": "0ad0090f-b60f-49c7-9fc7-34762751be98",
   "metadata": {},
   "outputs": [],
   "source": [
    "# Similarly to consecutive, t1's game points are only concern now\n",
    "# df['g1_game_pts'] = df['t1_game_pts_g1']\n",
    "# df['g2_game_pts'] = df['t1_game_pts_g2']\n",
    "# df['g3_game_pts'] = df['t1_game_pts_g3']"
   ]
  },
  {
   "cell_type": "code",
   "execution_count": 39,
   "id": "a6b3ea8a-c1cd-46d0-839f-152c5f2418ec",
   "metadata": {},
   "outputs": [],
   "source": [
    "# Normalise game points per game\n",
    "# df['g1_game_pts'] = scaler.fit_transform(df[['g1_game_pts']])\n",
    "# df['g2_game_pts'] = scaler.fit_transform(df[['g2_game_pts']])\n",
    "# df['g3_game_pts'] = scaler.fit_transform(df[['g3_game_pts']])"
   ]
  },
  {
   "cell_type": "code",
   "execution_count": 40,
   "id": "0648d235-4723-440d-893a-a34c72e41820",
   "metadata": {},
   "outputs": [],
   "source": [
    "# t1's total points scored normalised\n",
    "# df['ttl_pts'] = df['t1_ttl_pts']\n",
    "# df['ttl_pts'] = scaler.fit_transform(df[['ttl_pts']])"
   ]
  },
  {
   "cell_type": "markdown",
   "id": "9cf4cfb5-ba8a-4710-bb77-9c974734792c",
   "metadata": {},
   "source": [
    "A significant number of new features have been created by expanding on the existing data and normalising it. Each row still represents a single match, though the statistics are now centered around only one team. This way, the statistics surrounding point distribution and checkpoints within matches should prove more insightful and may reveal correlation with winning the match.\n",
    "\n",
    "Consequently, many of the original features can now be removed from the dataset."
   ]
  },
  {
   "cell_type": "code",
   "execution_count": 41,
   "id": "8e0fd528-d396-404c-8762-dca522ae6b62",
   "metadata": {},
   "outputs": [
    {
     "data": {
      "text/plain": [
       "Index(['tourney', 'city', 'country', 'date', 'tourny_type', 'disc', 'round',\n",
       "       'winner', 'games', 'g1_score', 'g2_score', 'g3_score', 't1_ttl_pts',\n",
       "       't2_ttl_pts', 't1_mst_con_pts', 't2_mst_con_pts', 't1_ttl_game_pts',\n",
       "       't2_ttl_game_pts', 't1_mst_con_pts_g1', 't2_mst_con_pts_g1',\n",
       "       't1_game_pts_g1', 't2_game_pts_g1', 'g1_scores', 't1_mst_con_pts_g2',\n",
       "       't2_mst_con_pts_g2', 't1_game_pts_g2', 't2_game_pts_g2', 'g2_scores',\n",
       "       't1_mst_con_pts_g3', 't2_mst_con_pts_g3', 't1_game_pts_g3',\n",
       "       't2_game_pts_g3', 'g3_scores', 't1_pts_g1', 't2_pts_g1', 't1_pts_g2',\n",
       "       't2_pts_g2', 't1_pts_g3', 't2_pts_g3', 'g1_winner', 'g2_winner',\n",
       "       'g3_winner', 'g1_int', 'g2_int', 'g3_int', 't1_pts_g1_int',\n",
       "       't2_pts_g1_int', 't1_pts_g2_int', 't2_pts_g2_int', 't1_pts_g3_int',\n",
       "       't2_pts_g3_int', 'g1_int_winner', 'g2_int_winner', 'g3_int_winner',\n",
       "       'win', 'g1_pt_dif', 'g2_pt_dif', 'g3_pt_dif', 'g1_int_pt_dif',\n",
       "       'g2_int_pt_dif', 'g3_int_pt_dif', 'g1_mst_con_pts', 'g2_mst_con_pts',\n",
       "       'g3_mst_con_pts'],\n",
       "      dtype='object')"
      ]
     },
     "execution_count": 41,
     "metadata": {},
     "output_type": "execute_result"
    }
   ],
   "source": [
    "df.columns"
   ]
  },
  {
   "cell_type": "code",
   "execution_count": 42,
   "id": "d2084359-48e5-450a-911e-47731fdfbdd8",
   "metadata": {},
   "outputs": [],
   "source": [
    "df.drop(columns=['tourney',\n",
    "                 'city',\n",
    "                 'country',\n",
    "                 'date',\n",
    "                 'tourny_type',\n",
    "                 'disc',\n",
    "                 'round',\n",
    "                 'winner',\n",
    "                 'games',\n",
    "                 'g1_score',\n",
    "                 'g2_score',\n",
    "                 'g3_score', \n",
    "                 't1_ttl_pts','t2_ttl_pts', \n",
    "                 't1_mst_con_pts', \n",
    "                 't2_mst_con_pts', \n",
    "                 't1_ttl_game_pts',\n",
    "                 't2_ttl_game_pts', \n",
    "                 't1_mst_con_pts_g1', \n",
    "                 't2_mst_con_pts_g1','t1_game_pts_g1', \n",
    "                 't2_game_pts_g1', \n",
    "                 'g1_scores', \n",
    "                 't1_mst_con_pts_g2',\n",
    "                 't2_mst_con_pts_g2',\n",
    "                 't1_game_pts_g2', \n",
    "                 't2_game_pts_g2', \n",
    "                 'g2_scores',\n",
    "                 't1_mst_con_pts_g3',\n",
    "                 't2_mst_con_pts_g3', \n",
    "                 't1_game_pts_g3',\n",
    "                 't2_game_pts_g3',\n",
    "                 'g3_scores', \n",
    "                 't1_pts_g1',\n",
    "                 't2_pts_g1', \n",
    "                 't1_pts_g2',\n",
    "                 't2_pts_g2', \n",
    "                 't1_pts_g3', \n",
    "                 't2_pts_g3', \n",
    "                 'g1_winner', \n",
    "                 'g2_winner',\n",
    "                 'g3_winner', \n",
    "                 'g1_int', \n",
    "                 'g2_int', \n",
    "                 'g3_int', \n",
    "                 't1_pts_g1_int',\n",
    "                 't2_pts_g1_int', \n",
    "                 't1_pts_g2_int', \n",
    "                 't2_pts_g2_int', \n",
    "                 't1_pts_g3_int',\n",
    "                 't2_pts_g3_int',\n",
    "                 'g1_int_winner', \n",
    "                 'g2_int_winner', \n",
    "                 'g3_int_winner',\n",
    "                 'g3_pt_dif'],inplace=True)"
   ]
  },
  {
   "cell_type": "markdown",
   "id": "ec428cdd-2140-4869-9a26-0b1c2750efdf",
   "metadata": {},
   "source": [
    "### Data exploration\n",
    "As all features were extracted from original features which were then removed, exploratory data analysis was not considered necessary previously. A brief examination of some the new features is useful before beginning analysis."
   ]
  },
  {
   "cell_type": "code",
   "execution_count": 43,
   "id": "dcd459bc-b03d-43ef-96b9-ca59ac62eef0",
   "metadata": {},
   "outputs": [
    {
     "data": {
      "image/png": "[encoded data removed]",
      "text/plain": [
       "<Figure size 360x360 with 1 Axes>"
      ]
     },
     "metadata": {
      "needs_background": "light"
     },
     "output_type": "display_data"
    }
   ],
   "source": [
    "sns.displot(df, x=\"g1_mst_con_pts\", hue=\"win\", multiple='stack', bins=15, legend=False)\n",
    "plt.xlabel('Most consecutive points')\n",
    "plt.ylabel('Count')\n",
    "plt.title('Impact of consecutive points in game one')\n",
    "plt.legend(title='Legend', loc='center right', labels=['Win', 'Loss'])\n",
    "plt.savefig('figures/g1_mst_con_pts.png', bbox_inches='tight')"
   ]
  },
  {
   "cell_type": "code",
   "execution_count": 44,
   "id": "e45a6edb-1096-4ef7-aaf5-f3eea34fe20c",
   "metadata": {},
   "outputs": [
    {
     "data": {
      "image/png": "[encoded data removed]",
      "text/plain": [
       "<Figure size 360x360 with 1 Axes>"
      ]
     },
     "metadata": {
      "needs_background": "light"
     },
     "output_type": "display_data"
    }
   ],
   "source": [
    "sns.displot(df, x=\"g1_int_pt_dif\", hue=\"win\", multiple='stack', bins=10, legend=False)\n",
    "plt.xlabel('Mid-game interval point difference')\n",
    "plt.ylabel('Count')\n",
    "plt.title('Impact of game one mid-game interval')\n",
    "plt.legend(title='Legend', loc='center right', labels=['Win', 'Loss'])\n",
    "plt.savefig('figures/g1_int_pt_dif.png', bbox_inches='tight')"
   ]
  },
  {
   "cell_type": "code",
   "execution_count": 45,
   "id": "0fb155b0-42b6-4bb2-bcad-01e547bb57eb",
   "metadata": {},
   "outputs": [
    {
     "data": {
      "image/png": "[encoded data removed]",
      "text/plain": [
       "<Figure size 360x360 with 1 Axes>"
      ]
     },
     "metadata": {
      "needs_background": "light"
     },
     "output_type": "display_data"
    }
   ],
   "source": [
    "sns.displot(df, x=\"g1_pt_dif\", hue=\"win\", multiple='stack', bins=30, legend=False)\n",
    "plt.xlabel('Game one point difference')\n",
    "plt.ylabel('Count')\n",
    "plt.title('Impact of winning the first game')\n",
    "plt.legend(title='Legend', loc='center right', labels=['Win', 'Loss'])\n",
    "plt.savefig('figures/g1_pt_dif.png', bbox_inches='tight')"
   ]
  },
  {
   "cell_type": "code",
   "execution_count": 46,
   "id": "6ff54df6-3408-4001-88b9-c05a57d59ce2",
   "metadata": {},
   "outputs": [],
   "source": [
    "corr=df.corr() # gives us the correlation values"
   ]
  },
  {
   "cell_type": "code",
   "execution_count": 47,
   "id": "77a8a192-7890-426a-b03d-34caa187673d",
   "metadata": {},
   "outputs": [
    {
     "data": {
      "image/png": "[encoded data removed]",
      "text/plain": [
       "<Figure size 1080x720 with 2 Axes>"
      ]
     },
     "metadata": {
      "needs_background": "light"
     },
     "output_type": "display_data"
    }
   ],
   "source": [
    "plt.figure(figsize=(15,10))\n",
    "sns.heatmap(corr, annot = False, cmap=\"BuPu\")  # let's visualise the correlation matrix\n",
    "plt.title('Correlation heatmap of new features')\n",
    "plt.savefig('figures/correlation_heatmap.png', bbox_inches='tight')"
   ]
  },
  {
   "cell_type": "code",
   "execution_count": 48,
   "id": "cb1c7885-e912-4e71-ae0a-906359257f7c",
   "metadata": {},
   "outputs": [
    {
     "data": {
      "text/plain": [
       "win               0\n",
       "g1_pt_dif         0\n",
       "g2_pt_dif         0\n",
       "g1_int_pt_dif     0\n",
       "g2_int_pt_dif     1\n",
       "g3_int_pt_dif     0\n",
       "g1_mst_con_pts    0\n",
       "g2_mst_con_pts    0\n",
       "g3_mst_con_pts    0\n",
       "dtype: int64"
      ]
     },
     "execution_count": 48,
     "metadata": {},
     "output_type": "execute_result"
    }
   ],
   "source": [
    "df.isnull().sum() # Return the sum of occurrences of Null in each column"
   ]
  },
  {
   "cell_type": "code",
   "execution_count": 49,
   "id": "db72c6d1-cb13-4229-8742-7d1ccef6eda6",
   "metadata": {},
   "outputs": [
    {
     "data": {
      "text/plain": [
       "(array([13987]), array([4]))"
      ]
     },
     "execution_count": 49,
     "metadata": {},
     "output_type": "execute_result"
    }
   ],
   "source": [
    "# One record has escaped all previous efforts to remove Null\n",
    "np.where(np.isnan(df))"
   ]
  },
  {
   "cell_type": "code",
   "execution_count": 50,
   "id": "173ed1af-6353-424c-883a-b7f0d7853adb",
   "metadata": {},
   "outputs": [],
   "source": [
    "# Remove above \n",
    "df.loc[(df['g2_int_pt_dif'].isnull())]\n",
    "df.drop(13987,inplace=True)"
   ]
  },
  {
   "cell_type": "code",
   "execution_count": 51,
   "id": "7ab41f78-d06a-445f-84e1-d11d7a1994d4",
   "metadata": {},
   "outputs": [],
   "source": [
    "# Reset the index and index from 0 to number of rows\n",
    "df = df.reset_index(drop = True) "
   ]
  },
  {
   "cell_type": "code",
   "execution_count": 52,
   "id": "f6e80a53-8425-4b5e-a84e-3f55213e68e1",
   "metadata": {},
   "outputs": [],
   "source": [
    "# Create x and y for test and train sets for analysis, y being 'target feature'\n",
    "x = df.drop(['win'],axis=1)\n",
    "y = df['win']"
   ]
  },
  {
   "cell_type": "code",
   "execution_count": 53,
   "id": "4d43329a-bb44-44e2-a81b-3589dfe560d3",
   "metadata": {},
   "outputs": [],
   "source": [
    "# Import sci-kit learn library which randomly splits data into test and train sets\n",
    "from sklearn.model_selection import train_test_split\n",
    "\n",
    "# Divide the dataset into train and test sets for both x and y, test_size 0.2 = 20% of the dataset\n",
    "x_train, x_test, y_train, y_test = train_test_split(x, y, test_size = 0.2)"
   ]
  },
  {
   "cell_type": "code",
   "execution_count": 54,
   "id": "7f69a589-5ffa-4fae-b954-471496171948",
   "metadata": {},
   "outputs": [],
   "source": [
    "# Import sci-kit learn library to cross-validate the test data\n",
    "from sklearn.model_selection import cross_val_score"
   ]
  },
  {
   "cell_type": "code",
   "execution_count": 55,
   "id": "5a6c4662-de55-402f-a924-0cb64bfc9d54",
   "metadata": {},
   "outputs": [],
   "source": [
    "# Create validation functions which will be reused with different models\n",
    "def classify(model, x, y):\n",
    "    x_train, x_test, y_train, y_test = train_test_split(x, y, test_size = 0.2, random_state=42)\n",
    "    model.fit(x_train, y_train)\n",
    "    print('Accuracy: ', model.score(x_test, y_test)*100)\n",
    "    score = cross_val_score(model, x, y, cv=5)                  # we set the number of folds to 5\n",
    "    print('Cross-validation accuracy: ', np.mean(score)*100)"
   ]
  },
  {
   "cell_type": "code",
   "execution_count": 56,
   "id": "989ddc33-a99b-4e3d-81ee-de338605479a",
   "metadata": {},
   "outputs": [
    {
     "name": "stdout",
     "output_type": "stream",
     "text": [
      "Accuracy:  76.23089983022071\n",
      "Cross-validation accuracy:  76.69461412120764\n"
     ]
    }
   ],
   "source": [
    "# Import sci-kit learn library for logistic regression and initialise an instance\n",
    "from sklearn.linear_model import LogisticRegression\n",
    "lg_model = LogisticRegression()\n",
    "classify(lg_model, x, y)  # pass logistic regression as the model, along with x and y, to the 'classify' function"
   ]
  },
  {
   "cell_type": "code",
   "execution_count": 57,
   "id": "da8e6706-1817-4998-9112-e56bf69cd452",
   "metadata": {},
   "outputs": [
    {
     "name": "stdout",
     "output_type": "stream",
     "text": [
      "Accuracy:  79.25297113752123\n",
      "Cross-validation accuracy:  78.807222078689\n"
     ]
    }
   ],
   "source": [
    "# Import sci-kit learn library for K-nearest neighbour and initialise an instance\n",
    "from sklearn.neighbors import KNeighborsClassifier\n",
    "knn_model = KNeighborsClassifier(n_neighbors=5)\n",
    "classify(knn_model, x, y)"
   ]
  },
  {
   "cell_type": "code",
   "execution_count": 58,
   "id": "96382a8f-86f9-48c5-876b-523b17e1fe6b",
   "metadata": {},
   "outputs": [],
   "source": [
    "y_pred = knn_model.predict(x_test) # save predictions in y_pred"
   ]
  },
  {
   "cell_type": "code",
   "execution_count": 59,
   "id": "7c63a8cc-62b3-4720-890e-eef430eeec68",
   "metadata": {},
   "outputs": [],
   "source": [
    "# Import sci-kit learn library to produce confusion matrix from svc model\n",
    "from sklearn.metrics import confusion_matrix\n",
    "cm = confusion_matrix(y_test, y_pred)"
   ]
  },
  {
   "cell_type": "code",
   "execution_count": 60,
   "id": "fff78bcc-2af8-41a1-af14-fe6c19f74118",
   "metadata": {},
   "outputs": [
    {
     "data": {
      "image/png": "[encoded data removed]",
      "text/plain": [
       "<Figure size 432x288 with 2 Axes>"
      ]
     },
     "metadata": {
      "needs_background": "light"
     },
     "output_type": "display_data"
    }
   ],
   "source": [
    "sns.heatmap(cm, annot=False) # plots the confusion matrix\n",
    "plt.title('Confusion matrix heatmap for K-nearest neighbour')\n",
    "plt.savefig('figures/confusion_matrix_heatmap_knn', bbox_inches='tight')"
   ]
  },
  {
   "cell_type": "code",
   "execution_count": 61,
   "id": "09d4f1ae-2bb8-4fcb-8670-098c58068fe5",
   "metadata": {},
   "outputs": [],
   "source": [
    "# Import sci-kit learn f1_score library to receive the F1 score for the model\n",
    "from sklearn.metrics import f1_score"
   ]
  },
  {
   "cell_type": "code",
   "execution_count": 62,
   "id": "186877f2-f1ec-43e4-81b2-1a80772cdfb8",
   "metadata": {},
   "outputs": [],
   "source": [
    "f1 = f1_score(y_test, y_pred)"
   ]
  },
  {
   "cell_type": "code",
   "execution_count": 63,
   "id": "3b7b99b5-ce10-498d-9752-dfc75ce28d9d",
   "metadata": {},
   "outputs": [
    {
     "data": {
      "text/plain": [
       "0.8559458588462778"
      ]
     },
     "execution_count": 63,
     "metadata": {},
     "output_type": "execute_result"
    }
   ],
   "source": [
    "f1"
   ]
  },
  {
   "cell_type": "code",
   "execution_count": 64,
   "id": "17db2df9-b7a8-4458-9698-de3586f93135",
   "metadata": {},
   "outputs": [],
   "source": [
    "df.to_csv('data_cleaned/df.csv', index=False)"
   ]
  },
  {
   "cell_type": "code",
   "execution_count": 65,
   "id": "9b4a02d5-b6f8-4549-9748-97edd744dea3",
   "metadata": {},
   "outputs": [],
   "source": [
    "# Create probability estimates of the positive class using both logistic regression model and knn model\n",
    "lg_probas = lg_model.fit(x, y)\n",
    "lg_probas = lg_probas.predict_log_proba(x)\n",
    "knn_probas = knn_model.fit(x, y)\n",
    "knn_probas = knn_model.predict_proba(x)"
   ]
  },
  {
   "cell_type": "code",
   "execution_count": 66,
   "id": "b4981374-a37c-4908-b23a-8acb3a13524c",
   "metadata": {},
   "outputs": [
    {
     "data": {
      "image/png": "[encoded data removed]",
      "text/plain": [
       "<Figure size 432x288 with 1 Axes>"
      ]
     },
     "metadata": {
      "needs_background": "light"
     },
     "output_type": "display_data"
    }
   ],
   "source": [
    "# Import sci-kit learn roc_curve libraries to calculate and plot ROC curve for models\n",
    "from sklearn.metrics import roc_curve, roc_auc_score\n",
    "# Calculate false positive rates and true positive rates based on true binary labels (y) and probability estimates (probas) for the positive class\n",
    "# _proba returns array with two columns, only positive class is required so second column selected with [:, 1]\n",
    "fpr, tpr, _ = roc_curve(y, knn_probas[:,1])\n",
    "auc = roc_auc_score(y, knn_probas[:,1])\n",
    "\n",
    "#create ROC curve\n",
    "plt.plot(fpr,tpr,label=\"AUC=\"+str(auc))\n",
    "plt.ylabel('True Positive Rate')\n",
    "plt.xlabel('False Positive Rate')\n",
    "plt.title('KNN ROC curve')\n",
    "plt.legend(loc=4)\n",
    "plt.savefig('figures/knn_roc', bbox_inches='tight')"
   ]
  }
 ],
 "metadata": {
  "kernelspec": {
   "display_name": "Python 3 (ipykernel)",
   "language": "python",
   "name": "python3"
  },
  "language_info": {
   "codemirror_mode": {
    "name": "ipython",
    "version": 3
   },
   "file_extension": ".py",
   "mimetype": "text/x-python",
   "name": "python",
   "nbconvert_exporter": "python",
   "pygments_lexer": "ipython3",
   "version": "3.10.1"
  }
 },
 "nbformat": 4,
 "nbformat_minor": 5
}
